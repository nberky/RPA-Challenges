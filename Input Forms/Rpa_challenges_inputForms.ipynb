{
 "cells": [
  {
   "cell_type": "code",
   "execution_count": 1,
   "id": "51ee32c7",
   "metadata": {},
   "outputs": [
    {
     "name": "stdout",
     "output_type": "stream",
     "text": [
      "Index(['First Name', 'Last Name ', 'Company Name', 'Role in Company',\n",
      "       'Address', 'Email', 'Phone Number', 'Unnamed: 7'],\n",
      "      dtype='object')\n",
      "<class 'pandas.core.frame.DataFrame'>\n",
      "RangeIndex: 10 entries, 0 to 9\n",
      "Data columns (total 7 columns):\n",
      " #   Column           Non-Null Count  Dtype \n",
      "---  ------           --------------  ----- \n",
      " 0   First Name       10 non-null     object\n",
      " 1   Last Name        10 non-null     object\n",
      " 2   Company Name     10 non-null     object\n",
      " 3   Role in Company  10 non-null     object\n",
      " 4   Address          10 non-null     object\n",
      " 5   Email            10 non-null     object\n",
      " 6   Phone Number     10 non-null     object\n",
      "dtypes: object(7)\n",
      "memory usage: 688.0+ bytes\n",
      "None\n",
      "  First Name  Last Name   Company Name   Role in Company  \\\n",
      "0       John      Smith   IT Solutions           Analyst   \n",
      "1       Jane     Dorsey       MediCare  Medical Engineer   \n",
      "2     Albert    Kipling     Waterfront        Accountant   \n",
      "3    Michael  Robertson       MediCare     IT Specialist   \n",
      "4       Doug    Derrick  Timepath Inc.           Analyst   \n",
      "5     Jessie    Marlowe  Aperture Inc.         Scientist   \n",
      "6       Stan       Hamm      Sugarwell           Advisor   \n",
      "7   Michelle     Norton  Aperture Inc.         Scientist   \n",
      "8      Stacy     Shelby        TechDev        HR Manager   \n",
      "9       Lara     Palmer  Timepath Inc.        Programmer   \n",
      "\n",
      "                  Address                     Email Phone Number  \n",
      "0           98 North Road  jsmith@itsolutions.co.uk  40716543298  \n",
      "1         11 Crown Street            jdorsey@mc.com  40791345621  \n",
      "2         22 Guild Street    kipling@waterfront.com  40735416854  \n",
      "3      17 Farburn Terrace         mrobertson@mc.com  40733652145  \n",
      "4       99 Shire Oak Road   dderrick@timepath.co.uk  40799885412  \n",
      "5      27 Cheshire Street      jmarlowe@aperture.us  40733154268  \n",
      "6             10 Dam Road       shamm@sugarwell.org  40712462257  \n",
      "7  13 White Rabbit Street       mnorton@aperture.us  40731254562  \n",
      "8  19 Pineapple Boulevard       sshelby@techdev.com  40741785214  \n",
      "9        87 Orange Street    lpalmer@timepath.co.uk  40731653845  \n"
     ]
    }
   ],
   "source": [
    "import pandas as pd\n",
    "\n",
    "df = pd.read_excel(\"challenge.xlsx\")\n",
    "\n",
    "print(df.columns)\n",
    "\n",
    "del df[\"Unnamed: 7\"]\n",
    "df.columns = ['First Name', 'Last Name', 'Company Name', 'Role in Company',\n",
    "       'Address', 'Email', 'Phone Number']\n",
    "df[\"Phone Number\"] = df[\"Phone Number\"].astype(str)\n",
    "\n",
    "print(df.info())\n",
    "print(df)"
   ]
  },
  {
   "cell_type": "code",
   "execution_count": 3,
   "id": "f629cc3a",
   "metadata": {},
   "outputs": [
    {
     "name": "stderr",
     "output_type": "stream",
     "text": [
      "[WDM] - \n",
      "\n",
      "[WDM] - ====== WebDriver manager ======\n",
      "[WDM] - Current google-chrome version is 94.0.4606\n",
      "[WDM] - Get LATEST driver version for 94.0.4606\n",
      "[WDM] - Driver [C:\\Users\\Toshºba\\.wdm\\drivers\\chromedriver\\win32\\94.0.4606.61\\chromedriver.exe] found in cache\n",
      "c:\\users\\toshºba\\appdata\\local\\programs\\python\\python37\\lib\\site-packages\\ipykernel_launcher.py:12: DeprecationWarning: find_element_by_* commands are deprecated. Please use find_element() instead\n",
      "  if sys.path[0] == '':\n",
      "c:\\users\\toshºba\\appdata\\local\\programs\\python\\python37\\lib\\site-packages\\ipykernel_launcher.py:15: DeprecationWarning: find_elements_by_* commands are deprecated. Please use find_elements() instead\n",
      "  from ipykernel import kernelapp as app\n",
      "c:\\users\\toshºba\\appdata\\local\\programs\\python\\python37\\lib\\site-packages\\ipykernel_launcher.py:21: DeprecationWarning: find_element_by_* commands are deprecated. Please use find_element() instead\n"
     ]
    }
   ],
   "source": [
    "from selenium import webdriver\n",
    "from selenium.webdriver.chrome.service import Service\n",
    "from webdriver_manager.chrome import ChromeDriverManager\n",
    "import time\n",
    "\n",
    "s=Service(ChromeDriverManager().install())\n",
    "driver = webdriver.Chrome(service = s)\n",
    "driver.implicitly_wait(0.5)\n",
    "\n",
    "driver.get(\"http://rpachallenge.com/\")\n",
    "driver.maximize_window()\n",
    "driver.find_element_by_xpath('//button').click()\n",
    "\n",
    "for p in range(len(df)):\n",
    "    m = driver.find_elements_by_xpath('//form/div[@class=\"row\"]/div')\n",
    " \n",
    "    for i in range(len(m)):\n",
    "        person = df.iloc[p]\n",
    "        a = m[i].find_elements_by_xpath(\"//input\")\n",
    "        a[i].send_keys(person[m[i].text])\n",
    "    driver.find_element_by_xpath('//form/input[@class=\"btn uiColorButton\"]').click()"
   ]
  },
  {
   "cell_type": "code",
   "execution_count": null,
   "id": "df5a4681",
   "metadata": {},
   "outputs": [],
   "source": []
  }
 ],
 "metadata": {
  "kernelspec": {
   "display_name": "Python 3 (ipykernel)",
   "language": "python",
   "name": "python3"
  },
  "language_info": {
   "codemirror_mode": {
    "name": "ipython",
    "version": 3
   },
   "file_extension": ".py",
   "mimetype": "text/x-python",
   "name": "python",
   "nbconvert_exporter": "python",
   "pygments_lexer": "ipython3",
   "version": "3.7.8"
  }
 },
 "nbformat": 4,
 "nbformat_minor": 5
}
